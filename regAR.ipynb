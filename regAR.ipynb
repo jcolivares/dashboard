{
  "nbformat": 4,
  "nbformat_minor": 0,
  "metadata": {
    "colab": {
      "name": "regAR.ipynb",
      "version": "0.3.2",
      "provenance": [],
      "collapsed_sections": [],
      "include_colab_link": true
    },
    "kernelspec": {
      "name": "python3",
      "display_name": "Python 3"
    }
  },
  "cells": [
    {
      "cell_type": "markdown",
      "metadata": {
        "id": "view-in-github",
        "colab_type": "text"
      },
      "source": [
        "<a href=\"https://colab.research.google.com/github/jcolivares/dashboard/blob/master/regAR.ipynb\" target=\"_parent\"><img src=\"https://colab.research.google.com/assets/colab-badge.svg\" alt=\"Open In Colab\"/></a>"
      ]
    },
    {
      "cell_type": "markdown",
      "metadata": {
        "id": "sac7Lcz4eXfu",
        "colab_type": "text"
      },
      "source": [
        "# Regresión Lineal y AutoRegresion\n",
        "\n",
        "Ests notas muestran como aplicar dos conceptos básicos de estadística para el pronóstico de datos futuros usando series de tiempo\n",
        "\n",
        "*Primer paso: Importar biblioteca.*"
      ]
    },
    {
      "cell_type": "code",
      "metadata": {
        "id": "wOMbfjqGeHvz",
        "colab_type": "code",
        "colab": {}
      },
      "source": [
        "import numpy as np\n",
        "import matplotlib.pyplot as plt\n",
        "import pandas as pd\n",
        "from sklearn.linear_model import LinearRegression\n",
        "import seaborn as s\n",
        "\n",
        "from sklearn import linear_model as lm"
      ],
      "execution_count": 0,
      "outputs": []
    },
    {
      "cell_type": "markdown",
      "metadata": {
        "id": "BahZId7Gfzkk",
        "colab_type": "text"
      },
      "source": [
        "Se importa biblioteca desde repositorio de datos"
      ]
    },
    {
      "cell_type": "code",
      "metadata": {
        "id": "ZnrounRwgYBl",
        "colab_type": "code",
        "outputId": "a9bb89b4-2fb4-438c-9191-06c1d4f4bbfb",
        "colab": {
          "base_uri": "https://localhost:8080/",
          "height": 204
        }
      },
      "source": [
        "data = pd.read_csv(\"http://dsc.itmorelia.edu.mx/~jcolivares/data/consumoCasa2.csv\")\n",
        "\n",
        "data.head()"
      ],
      "execution_count": 0,
      "outputs": [
        {
          "output_type": "execute_result",
          "data": {
            "text/html": [
              "<div>\n",
              "<style scoped>\n",
              "    .dataframe tbody tr th:only-of-type {\n",
              "        vertical-align: middle;\n",
              "    }\n",
              "\n",
              "    .dataframe tbody tr th {\n",
              "        vertical-align: top;\n",
              "    }\n",
              "\n",
              "    .dataframe thead th {\n",
              "        text-align: right;\n",
              "    }\n",
              "</style>\n",
              "<table border=\"1\" class=\"dataframe\">\n",
              "  <thead>\n",
              "    <tr style=\"text-align: right;\">\n",
              "      <th></th>\n",
              "      <th>Fecha inicial</th>\n",
              "      <th>Fecha final</th>\n",
              "      <th>Consumo</th>\n",
              "      <th>Precio1</th>\n",
              "      <th>Precio2</th>\n",
              "      <th>Precio3</th>\n",
              "      <th>Total</th>\n",
              "      <th>Apoyo</th>\n",
              "    </tr>\n",
              "  </thead>\n",
              "  <tbody>\n",
              "    <tr>\n",
              "      <th>0</th>\n",
              "      <td>06/01/15</td>\n",
              "      <td>05/03/15</td>\n",
              "      <td>200.0</td>\n",
              "      <td>0.793</td>\n",
              "      <td>0.956</td>\n",
              "      <td>2.802</td>\n",
              "      <td>228.0</td>\n",
              "      <td>NaN</td>\n",
              "    </tr>\n",
              "    <tr>\n",
              "      <th>1</th>\n",
              "      <td>05/03/15</td>\n",
              "      <td>06/05/15</td>\n",
              "      <td>247.0</td>\n",
              "      <td>0.793</td>\n",
              "      <td>0.956</td>\n",
              "      <td>2.802</td>\n",
              "      <td>281.0</td>\n",
              "      <td>NaN</td>\n",
              "    </tr>\n",
              "    <tr>\n",
              "      <th>2</th>\n",
              "      <td>06/05/15</td>\n",
              "      <td>06/07/15</td>\n",
              "      <td>219.0</td>\n",
              "      <td>0.793</td>\n",
              "      <td>0.956</td>\n",
              "      <td>2.802</td>\n",
              "      <td>249.0</td>\n",
              "      <td>NaN</td>\n",
              "    </tr>\n",
              "    <tr>\n",
              "      <th>3</th>\n",
              "      <td>06/07/15</td>\n",
              "      <td>04/09/15</td>\n",
              "      <td>224.0</td>\n",
              "      <td>0.793</td>\n",
              "      <td>0.956</td>\n",
              "      <td>2.802</td>\n",
              "      <td>255.0</td>\n",
              "      <td>NaN</td>\n",
              "    </tr>\n",
              "    <tr>\n",
              "      <th>4</th>\n",
              "      <td>04/09/15</td>\n",
              "      <td>05/11/15</td>\n",
              "      <td>229.0</td>\n",
              "      <td>0.793</td>\n",
              "      <td>0.956</td>\n",
              "      <td>2.802</td>\n",
              "      <td>260.0</td>\n",
              "      <td>NaN</td>\n",
              "    </tr>\n",
              "  </tbody>\n",
              "</table>\n",
              "</div>"
            ],
            "text/plain": [
              "  Fecha inicial Fecha final  Consumo  Precio1  Precio2  Precio3  Total  Apoyo\n",
              "0      06/01/15    05/03/15    200.0    0.793    0.956    2.802  228.0    NaN\n",
              "1      05/03/15    06/05/15    247.0    0.793    0.956    2.802  281.0    NaN\n",
              "2      06/05/15    06/07/15    219.0    0.793    0.956    2.802  249.0    NaN\n",
              "3      06/07/15    04/09/15    224.0    0.793    0.956    2.802  255.0    NaN\n",
              "4      04/09/15    05/11/15    229.0    0.793    0.956    2.802  260.0    NaN"
            ]
          },
          "metadata": {
            "tags": []
          },
          "execution_count": 266
        }
      ]
    },
    {
      "cell_type": "markdown",
      "metadata": {
        "id": "vKMvjfPPiqCd",
        "colab_type": "text"
      },
      "source": [
        "imprimimos todos los datos"
      ]
    },
    {
      "cell_type": "code",
      "metadata": {
        "id": "rCEv0-9Dirxg",
        "colab_type": "code",
        "outputId": "8d32ceb8-f219-4d1c-d5ad-def3601597df",
        "colab": {
          "base_uri": "https://localhost:8080/",
          "height": 917
        }
      },
      "source": [
        "data"
      ],
      "execution_count": 0,
      "outputs": [
        {
          "output_type": "execute_result",
          "data": {
            "text/html": [
              "<div>\n",
              "<style scoped>\n",
              "    .dataframe tbody tr th:only-of-type {\n",
              "        vertical-align: middle;\n",
              "    }\n",
              "\n",
              "    .dataframe tbody tr th {\n",
              "        vertical-align: top;\n",
              "    }\n",
              "\n",
              "    .dataframe thead th {\n",
              "        text-align: right;\n",
              "    }\n",
              "</style>\n",
              "<table border=\"1\" class=\"dataframe\">\n",
              "  <thead>\n",
              "    <tr style=\"text-align: right;\">\n",
              "      <th></th>\n",
              "      <th>Fecha inicial</th>\n",
              "      <th>Fecha final</th>\n",
              "      <th>Consumo</th>\n",
              "      <th>Precio1</th>\n",
              "      <th>Precio2</th>\n",
              "      <th>Precio3</th>\n",
              "      <th>Total</th>\n",
              "      <th>Apoyo</th>\n",
              "    </tr>\n",
              "  </thead>\n",
              "  <tbody>\n",
              "    <tr>\n",
              "      <th>0</th>\n",
              "      <td>06/01/15</td>\n",
              "      <td>05/03/15</td>\n",
              "      <td>200.0</td>\n",
              "      <td>0.793</td>\n",
              "      <td>0.956</td>\n",
              "      <td>2.802</td>\n",
              "      <td>228.0</td>\n",
              "      <td>NaN</td>\n",
              "    </tr>\n",
              "    <tr>\n",
              "      <th>1</th>\n",
              "      <td>05/03/15</td>\n",
              "      <td>06/05/15</td>\n",
              "      <td>247.0</td>\n",
              "      <td>0.793</td>\n",
              "      <td>0.956</td>\n",
              "      <td>2.802</td>\n",
              "      <td>281.0</td>\n",
              "      <td>NaN</td>\n",
              "    </tr>\n",
              "    <tr>\n",
              "      <th>2</th>\n",
              "      <td>06/05/15</td>\n",
              "      <td>06/07/15</td>\n",
              "      <td>219.0</td>\n",
              "      <td>0.793</td>\n",
              "      <td>0.956</td>\n",
              "      <td>2.802</td>\n",
              "      <td>249.0</td>\n",
              "      <td>NaN</td>\n",
              "    </tr>\n",
              "    <tr>\n",
              "      <th>3</th>\n",
              "      <td>06/07/15</td>\n",
              "      <td>04/09/15</td>\n",
              "      <td>224.0</td>\n",
              "      <td>0.793</td>\n",
              "      <td>0.956</td>\n",
              "      <td>2.802</td>\n",
              "      <td>255.0</td>\n",
              "      <td>NaN</td>\n",
              "    </tr>\n",
              "    <tr>\n",
              "      <th>4</th>\n",
              "      <td>04/09/15</td>\n",
              "      <td>05/11/15</td>\n",
              "      <td>229.0</td>\n",
              "      <td>0.793</td>\n",
              "      <td>0.956</td>\n",
              "      <td>2.802</td>\n",
              "      <td>260.0</td>\n",
              "      <td>NaN</td>\n",
              "    </tr>\n",
              "    <tr>\n",
              "      <th>5</th>\n",
              "      <td>05/11/15</td>\n",
              "      <td>06/01/16</td>\n",
              "      <td>257.0</td>\n",
              "      <td>0.793</td>\n",
              "      <td>0.956</td>\n",
              "      <td>2.802</td>\n",
              "      <td>301.0</td>\n",
              "      <td>NaN</td>\n",
              "    </tr>\n",
              "    <tr>\n",
              "      <th>6</th>\n",
              "      <td>06/01/16</td>\n",
              "      <td>04/03/16</td>\n",
              "      <td>213.0</td>\n",
              "      <td>0.793</td>\n",
              "      <td>0.956</td>\n",
              "      <td>2.802</td>\n",
              "      <td>239.0</td>\n",
              "      <td>NaN</td>\n",
              "    </tr>\n",
              "    <tr>\n",
              "      <th>7</th>\n",
              "      <td>04/03/16</td>\n",
              "      <td>06/05/16</td>\n",
              "      <td>254.0</td>\n",
              "      <td>0.793</td>\n",
              "      <td>0.956</td>\n",
              "      <td>2.802</td>\n",
              "      <td>283.0</td>\n",
              "      <td>NaN</td>\n",
              "    </tr>\n",
              "    <tr>\n",
              "      <th>8</th>\n",
              "      <td>06/05/16</td>\n",
              "      <td>06/07/16</td>\n",
              "      <td>267.0</td>\n",
              "      <td>0.793</td>\n",
              "      <td>0.956</td>\n",
              "      <td>2.802</td>\n",
              "      <td>307.0</td>\n",
              "      <td>NaN</td>\n",
              "    </tr>\n",
              "    <tr>\n",
              "      <th>9</th>\n",
              "      <td>06/07/16</td>\n",
              "      <td>06/09/16</td>\n",
              "      <td>236.0</td>\n",
              "      <td>0.793</td>\n",
              "      <td>0.956</td>\n",
              "      <td>2.802</td>\n",
              "      <td>264.0</td>\n",
              "      <td>NaN</td>\n",
              "    </tr>\n",
              "    <tr>\n",
              "      <th>10</th>\n",
              "      <td>06/09/16</td>\n",
              "      <td>04/11/16</td>\n",
              "      <td>271.0</td>\n",
              "      <td>0.793</td>\n",
              "      <td>0.956</td>\n",
              "      <td>2.802</td>\n",
              "      <td>311.0</td>\n",
              "      <td>NaN</td>\n",
              "    </tr>\n",
              "    <tr>\n",
              "      <th>11</th>\n",
              "      <td>04/11/16</td>\n",
              "      <td>04/01/17</td>\n",
              "      <td>321.0</td>\n",
              "      <td>0.793</td>\n",
              "      <td>0.956</td>\n",
              "      <td>2.802</td>\n",
              "      <td>469.0</td>\n",
              "      <td>-1035.58</td>\n",
              "    </tr>\n",
              "    <tr>\n",
              "      <th>12</th>\n",
              "      <td>04/01/17</td>\n",
              "      <td>06/03/17</td>\n",
              "      <td>305.0</td>\n",
              "      <td>0.793</td>\n",
              "      <td>0.956</td>\n",
              "      <td>2.802</td>\n",
              "      <td>418.0</td>\n",
              "      <td>-1101.04</td>\n",
              "    </tr>\n",
              "    <tr>\n",
              "      <th>13</th>\n",
              "      <td>06/03/17</td>\n",
              "      <td>05/05/17</td>\n",
              "      <td>278.0</td>\n",
              "      <td>0.793</td>\n",
              "      <td>0.956</td>\n",
              "      <td>0.000</td>\n",
              "      <td>319.0</td>\n",
              "      <td>-1143.51</td>\n",
              "    </tr>\n",
              "    <tr>\n",
              "      <th>14</th>\n",
              "      <td>05/05/17</td>\n",
              "      <td>05/07/17</td>\n",
              "      <td>307.0</td>\n",
              "      <td>0.793</td>\n",
              "      <td>0.956</td>\n",
              "      <td>2.802</td>\n",
              "      <td>503.0</td>\n",
              "      <td>-1118.20</td>\n",
              "    </tr>\n",
              "    <tr>\n",
              "      <th>15</th>\n",
              "      <td>05/07/17</td>\n",
              "      <td>04/09/17</td>\n",
              "      <td>279.0</td>\n",
              "      <td>0.793</td>\n",
              "      <td>0.956</td>\n",
              "      <td>0.000</td>\n",
              "      <td>321.0</td>\n",
              "      <td>-1059.49</td>\n",
              "    </tr>\n",
              "    <tr>\n",
              "      <th>16</th>\n",
              "      <td>04/07/17</td>\n",
              "      <td>02/11/17</td>\n",
              "      <td>262.0</td>\n",
              "      <td>0.793</td>\n",
              "      <td>0.956</td>\n",
              "      <td>0.000</td>\n",
              "      <td>301.0</td>\n",
              "      <td>-1004.82</td>\n",
              "    </tr>\n",
              "    <tr>\n",
              "      <th>17</th>\n",
              "      <td>02/11/17</td>\n",
              "      <td>04/01/18</td>\n",
              "      <td>282.0</td>\n",
              "      <td>0.793</td>\n",
              "      <td>0.956</td>\n",
              "      <td>2.802</td>\n",
              "      <td>327.0</td>\n",
              "      <td>-449.19</td>\n",
              "    </tr>\n",
              "    <tr>\n",
              "      <th>18</th>\n",
              "      <td>04/01/18</td>\n",
              "      <td>06/03/18</td>\n",
              "      <td>274.0</td>\n",
              "      <td>0.793</td>\n",
              "      <td>0.956</td>\n",
              "      <td>0.000</td>\n",
              "      <td>315.0</td>\n",
              "      <td>-275.73</td>\n",
              "    </tr>\n",
              "    <tr>\n",
              "      <th>19</th>\n",
              "      <td>06/03/18</td>\n",
              "      <td>04/05/18</td>\n",
              "      <td>298.0</td>\n",
              "      <td>0.793</td>\n",
              "      <td>0.956</td>\n",
              "      <td>2.802</td>\n",
              "      <td>394.0</td>\n",
              "      <td>-421.56</td>\n",
              "    </tr>\n",
              "    <tr>\n",
              "      <th>20</th>\n",
              "      <td>04/05/18</td>\n",
              "      <td>04/07/18</td>\n",
              "      <td>321.0</td>\n",
              "      <td>0.793</td>\n",
              "      <td>0.956</td>\n",
              "      <td>2.802</td>\n",
              "      <td>470.0</td>\n",
              "      <td>-460.33</td>\n",
              "    </tr>\n",
              "    <tr>\n",
              "      <th>21</th>\n",
              "      <td>04/07/18</td>\n",
              "      <td>04/09/18</td>\n",
              "      <td>285.0</td>\n",
              "      <td>0.793</td>\n",
              "      <td>0.956</td>\n",
              "      <td>2.802</td>\n",
              "      <td>337.0</td>\n",
              "      <td>-615.19</td>\n",
              "    </tr>\n",
              "    <tr>\n",
              "      <th>22</th>\n",
              "      <td>04/09/18</td>\n",
              "      <td>02/11/18</td>\n",
              "      <td>268.0</td>\n",
              "      <td>0.793</td>\n",
              "      <td>0.956</td>\n",
              "      <td>0.000</td>\n",
              "      <td>308.0</td>\n",
              "      <td>-636.36</td>\n",
              "    </tr>\n",
              "    <tr>\n",
              "      <th>23</th>\n",
              "      <td>02/11/18</td>\n",
              "      <td>04/01/19</td>\n",
              "      <td>251.0</td>\n",
              "      <td>0.793</td>\n",
              "      <td>0.956</td>\n",
              "      <td>0.000</td>\n",
              "      <td>280.0</td>\n",
              "      <td>-525.83</td>\n",
              "    </tr>\n",
              "    <tr>\n",
              "      <th>24</th>\n",
              "      <td>04/01/19</td>\n",
              "      <td>06/03/19</td>\n",
              "      <td>250.0</td>\n",
              "      <td>0.799</td>\n",
              "      <td>0.964</td>\n",
              "      <td>0.000</td>\n",
              "      <td>282.0</td>\n",
              "      <td>-542.20</td>\n",
              "    </tr>\n",
              "    <tr>\n",
              "      <th>25</th>\n",
              "      <td>06/03/19</td>\n",
              "      <td>07/05/19</td>\n",
              "      <td>293.0</td>\n",
              "      <td>0.805</td>\n",
              "      <td>0.972</td>\n",
              "      <td>2.846</td>\n",
              "      <td>368.0</td>\n",
              "      <td>-596.17</td>\n",
              "    </tr>\n",
              "    <tr>\n",
              "      <th>26</th>\n",
              "      <td>07/05/19</td>\n",
              "      <td>09/07/19</td>\n",
              "      <td>296.0</td>\n",
              "      <td>0.811</td>\n",
              "      <td>0.980</td>\n",
              "      <td>2.868</td>\n",
              "      <td>396.0</td>\n",
              "      <td>-537.74</td>\n",
              "    </tr>\n",
              "    <tr>\n",
              "      <th>27</th>\n",
              "      <td></td>\n",
              "      <td>NaN</td>\n",
              "      <td>NaN</td>\n",
              "      <td>NaN</td>\n",
              "      <td>NaN</td>\n",
              "      <td>NaN</td>\n",
              "      <td>NaN</td>\n",
              "      <td>NaN</td>\n",
              "    </tr>\n",
              "  </tbody>\n",
              "</table>\n",
              "</div>"
            ],
            "text/plain": [
              "   Fecha inicial Fecha final  Consumo  ...  Precio3  Total    Apoyo\n",
              "0       06/01/15    05/03/15    200.0  ...    2.802  228.0      NaN\n",
              "1       05/03/15    06/05/15    247.0  ...    2.802  281.0      NaN\n",
              "2       06/05/15    06/07/15    219.0  ...    2.802  249.0      NaN\n",
              "3       06/07/15    04/09/15    224.0  ...    2.802  255.0      NaN\n",
              "4       04/09/15    05/11/15    229.0  ...    2.802  260.0      NaN\n",
              "5       05/11/15    06/01/16    257.0  ...    2.802  301.0      NaN\n",
              "6       06/01/16    04/03/16    213.0  ...    2.802  239.0      NaN\n",
              "7       04/03/16    06/05/16    254.0  ...    2.802  283.0      NaN\n",
              "8       06/05/16    06/07/16    267.0  ...    2.802  307.0      NaN\n",
              "9       06/07/16    06/09/16    236.0  ...    2.802  264.0      NaN\n",
              "10      06/09/16    04/11/16    271.0  ...    2.802  311.0      NaN\n",
              "11      04/11/16    04/01/17    321.0  ...    2.802  469.0 -1035.58\n",
              "12      04/01/17    06/03/17    305.0  ...    2.802  418.0 -1101.04\n",
              "13      06/03/17    05/05/17    278.0  ...    0.000  319.0 -1143.51\n",
              "14      05/05/17    05/07/17    307.0  ...    2.802  503.0 -1118.20\n",
              "15      05/07/17    04/09/17    279.0  ...    0.000  321.0 -1059.49\n",
              "16      04/07/17    02/11/17    262.0  ...    0.000  301.0 -1004.82\n",
              "17      02/11/17    04/01/18    282.0  ...    2.802  327.0  -449.19\n",
              "18      04/01/18    06/03/18    274.0  ...    0.000  315.0  -275.73\n",
              "19      06/03/18    04/05/18    298.0  ...    2.802  394.0  -421.56\n",
              "20      04/05/18    04/07/18    321.0  ...    2.802  470.0  -460.33\n",
              "21      04/07/18    04/09/18    285.0  ...    2.802  337.0  -615.19\n",
              "22      04/09/18    02/11/18    268.0  ...    0.000  308.0  -636.36\n",
              "23      02/11/18    04/01/19    251.0  ...    0.000  280.0  -525.83\n",
              "24      04/01/19    06/03/19    250.0  ...    0.000  282.0  -542.20\n",
              "25      06/03/19    07/05/19    293.0  ...    2.846  368.0  -596.17\n",
              "26      07/05/19    09/07/19    296.0  ...    2.868  396.0  -537.74\n",
              "27                       NaN      NaN  ...      NaN    NaN      NaN\n",
              "\n",
              "[28 rows x 8 columns]"
            ]
          },
          "metadata": {
            "tags": []
          },
          "execution_count": 267
        }
      ]
    },
    {
      "cell_type": "markdown",
      "metadata": {
        "id": "KMSpUywYheWc",
        "colab_type": "text"
      },
      "source": [
        "Imprimimos tamaños del conjunto de datos"
      ]
    },
    {
      "cell_type": "code",
      "metadata": {
        "id": "bGAqLh1ghhLR",
        "colab_type": "code",
        "outputId": "d2e380a3-20b7-4a1d-b2f1-7e62184e817f",
        "colab": {
          "base_uri": "https://localhost:8080/",
          "height": 34
        }
      },
      "source": [
        "data.shape\n"
      ],
      "execution_count": 0,
      "outputs": [
        {
          "output_type": "execute_result",
          "data": {
            "text/plain": [
              "(28, 8)"
            ]
          },
          "metadata": {
            "tags": []
          },
          "execution_count": 268
        }
      ]
    },
    {
      "cell_type": "code",
      "metadata": {
        "id": "6KWBKE92h4Ax",
        "colab_type": "code",
        "outputId": "bd85d76e-f8f8-4b1a-887f-1090d9816405",
        "colab": {
          "base_uri": "https://localhost:8080/",
          "height": 170
        }
      },
      "source": [
        "data.count()"
      ],
      "execution_count": 0,
      "outputs": [
        {
          "output_type": "execute_result",
          "data": {
            "text/plain": [
              "Fecha inicial    28\n",
              "Fecha final      27\n",
              "Consumo          27\n",
              "Precio1          27\n",
              "Precio2          27\n",
              "Precio3          27\n",
              "Total            27\n",
              "Apoyo            16\n",
              "dtype: int64"
            ]
          },
          "metadata": {
            "tags": []
          },
          "execution_count": 269
        }
      ]
    },
    {
      "cell_type": "markdown",
      "metadata": {
        "id": "j7kLodnZiCNa",
        "colab_type": "text"
      },
      "source": [
        "Contamos valores nulos por columnas"
      ]
    },
    {
      "cell_type": "code",
      "metadata": {
        "id": "W8Jh6Z3hiEcf",
        "colab_type": "code",
        "outputId": "8fb44b15-9709-4af6-95a4-3a7d3b352e26",
        "colab": {
          "base_uri": "https://localhost:8080/",
          "height": 153
        }
      },
      "source": [
        "col_names = data.columns.tolist()\n",
        "\n",
        "for column in col_names:\n",
        "  print(\"Valores nullos en <{0}>: {1}\".format(column, data[column].isnull().sum()))"
      ],
      "execution_count": 0,
      "outputs": [
        {
          "output_type": "stream",
          "text": [
            "Valores nullos en <Fecha inicial>: 0\n",
            "Valores nullos en <Fecha final>: 1\n",
            "Valores nullos en <Consumo>: 1\n",
            "Valores nullos en <Precio1>: 1\n",
            "Valores nullos en <Precio2>: 1\n",
            "Valores nullos en <Precio3>: 1\n",
            "Valores nullos en <Total>: 1\n",
            "Valores nullos en <Apoyo>: 12\n"
          ],
          "name": "stdout"
        }
      ]
    },
    {
      "cell_type": "markdown",
      "metadata": {
        "id": "8T5rwC7rizks",
        "colab_type": "text"
      },
      "source": [
        "Imprimimos una columna"
      ]
    },
    {
      "cell_type": "code",
      "metadata": {
        "id": "BqEkPEHLi1e-",
        "colab_type": "code",
        "outputId": "b07a3e0a-9924-4fb5-f318-819fb1702c90",
        "colab": {
          "base_uri": "https://localhost:8080/",
          "height": 510
        }
      },
      "source": [
        "data[\"Precio1\"]"
      ],
      "execution_count": 0,
      "outputs": [
        {
          "output_type": "execute_result",
          "data": {
            "text/plain": [
              "0     0.793\n",
              "1     0.793\n",
              "2     0.793\n",
              "3     0.793\n",
              "4     0.793\n",
              "5     0.793\n",
              "6     0.793\n",
              "7     0.793\n",
              "8     0.793\n",
              "9     0.793\n",
              "10    0.793\n",
              "11    0.793\n",
              "12    0.793\n",
              "13    0.793\n",
              "14    0.793\n",
              "15    0.793\n",
              "16    0.793\n",
              "17    0.793\n",
              "18    0.793\n",
              "19    0.793\n",
              "20    0.793\n",
              "21    0.793\n",
              "22    0.793\n",
              "23    0.793\n",
              "24    0.799\n",
              "25    0.805\n",
              "26    0.811\n",
              "27      NaN\n",
              "Name: Precio1, dtype: float64"
            ]
          },
          "metadata": {
            "tags": []
          },
          "execution_count": 271
        }
      ]
    },
    {
      "cell_type": "code",
      "metadata": {
        "id": "-LKa9zpxi6zn",
        "colab_type": "code",
        "outputId": "0c8eb869-f324-43b6-de74-3afb27148c02",
        "colab": {
          "base_uri": "https://localhost:8080/",
          "height": 510
        }
      },
      "source": [
        "#O simplemente cpn su nombre\n",
        "data.Consumo"
      ],
      "execution_count": 0,
      "outputs": [
        {
          "output_type": "execute_result",
          "data": {
            "text/plain": [
              "0     200.0\n",
              "1     247.0\n",
              "2     219.0\n",
              "3     224.0\n",
              "4     229.0\n",
              "5     257.0\n",
              "6     213.0\n",
              "7     254.0\n",
              "8     267.0\n",
              "9     236.0\n",
              "10    271.0\n",
              "11    321.0\n",
              "12    305.0\n",
              "13    278.0\n",
              "14    307.0\n",
              "15    279.0\n",
              "16    262.0\n",
              "17    282.0\n",
              "18    274.0\n",
              "19    298.0\n",
              "20    321.0\n",
              "21    285.0\n",
              "22    268.0\n",
              "23    251.0\n",
              "24    250.0\n",
              "25    293.0\n",
              "26    296.0\n",
              "27      NaN\n",
              "Name: Consumo, dtype: float64"
            ]
          },
          "metadata": {
            "tags": []
          },
          "execution_count": 272
        }
      ]
    },
    {
      "cell_type": "markdown",
      "metadata": {
        "id": "f9NrUme-kXoQ",
        "colab_type": "text"
      },
      "source": [
        "Estadísticos descriptivos"
      ]
    },
    {
      "cell_type": "code",
      "metadata": {
        "id": "IdbvZrBRkbUb",
        "colab_type": "code",
        "outputId": "072fea64-77c4-4784-c71f-e7aec099f99d",
        "colab": {
          "base_uri": "https://localhost:8080/",
          "height": 297
        }
      },
      "source": [
        "data.describe()"
      ],
      "execution_count": 0,
      "outputs": [
        {
          "output_type": "execute_result",
          "data": {
            "text/html": [
              "<div>\n",
              "<style scoped>\n",
              "    .dataframe tbody tr th:only-of-type {\n",
              "        vertical-align: middle;\n",
              "    }\n",
              "\n",
              "    .dataframe tbody tr th {\n",
              "        vertical-align: top;\n",
              "    }\n",
              "\n",
              "    .dataframe thead th {\n",
              "        text-align: right;\n",
              "    }\n",
              "</style>\n",
              "<table border=\"1\" class=\"dataframe\">\n",
              "  <thead>\n",
              "    <tr style=\"text-align: right;\">\n",
              "      <th></th>\n",
              "      <th>Consumo</th>\n",
              "      <th>Precio1</th>\n",
              "      <th>Precio2</th>\n",
              "      <th>Precio3</th>\n",
              "      <th>Total</th>\n",
              "      <th>Apoyo</th>\n",
              "    </tr>\n",
              "  </thead>\n",
              "  <tbody>\n",
              "    <tr>\n",
              "      <th>count</th>\n",
              "      <td>27.000000</td>\n",
              "      <td>27.000000</td>\n",
              "      <td>27.000000</td>\n",
              "      <td>27.00000</td>\n",
              "      <td>27.000000</td>\n",
              "      <td>16.000000</td>\n",
              "    </tr>\n",
              "    <tr>\n",
              "      <th>mean</th>\n",
              "      <td>266.185185</td>\n",
              "      <td>0.794333</td>\n",
              "      <td>0.957778</td>\n",
              "      <td>2.07963</td>\n",
              "      <td>325.407407</td>\n",
              "      <td>-720.183750</td>\n",
              "    </tr>\n",
              "    <tr>\n",
              "      <th>std</th>\n",
              "      <td>32.473702</td>\n",
              "      <td>0.004188</td>\n",
              "      <td>0.005584</td>\n",
              "      <td>1.25385</td>\n",
              "      <td>73.118060</td>\n",
              "      <td>299.125231</td>\n",
              "    </tr>\n",
              "    <tr>\n",
              "      <th>min</th>\n",
              "      <td>200.000000</td>\n",
              "      <td>0.793000</td>\n",
              "      <td>0.956000</td>\n",
              "      <td>0.00000</td>\n",
              "      <td>228.000000</td>\n",
              "      <td>-1143.510000</td>\n",
              "    </tr>\n",
              "    <tr>\n",
              "      <th>25%</th>\n",
              "      <td>248.500000</td>\n",
              "      <td>0.793000</td>\n",
              "      <td>0.956000</td>\n",
              "      <td>1.40100</td>\n",
              "      <td>280.500000</td>\n",
              "      <td>-1041.557500</td>\n",
              "    </tr>\n",
              "    <tr>\n",
              "      <th>50%</th>\n",
              "      <td>268.000000</td>\n",
              "      <td>0.793000</td>\n",
              "      <td>0.956000</td>\n",
              "      <td>2.80200</td>\n",
              "      <td>308.000000</td>\n",
              "      <td>-605.680000</td>\n",
              "    </tr>\n",
              "    <tr>\n",
              "      <th>75%</th>\n",
              "      <td>289.000000</td>\n",
              "      <td>0.793000</td>\n",
              "      <td>0.956000</td>\n",
              "      <td>2.80200</td>\n",
              "      <td>352.500000</td>\n",
              "      <td>-509.455000</td>\n",
              "    </tr>\n",
              "    <tr>\n",
              "      <th>max</th>\n",
              "      <td>321.000000</td>\n",
              "      <td>0.811000</td>\n",
              "      <td>0.980000</td>\n",
              "      <td>2.86800</td>\n",
              "      <td>503.000000</td>\n",
              "      <td>-275.730000</td>\n",
              "    </tr>\n",
              "  </tbody>\n",
              "</table>\n",
              "</div>"
            ],
            "text/plain": [
              "          Consumo    Precio1    Precio2   Precio3       Total        Apoyo\n",
              "count   27.000000  27.000000  27.000000  27.00000   27.000000    16.000000\n",
              "mean   266.185185   0.794333   0.957778   2.07963  325.407407  -720.183750\n",
              "std     32.473702   0.004188   0.005584   1.25385   73.118060   299.125231\n",
              "min    200.000000   0.793000   0.956000   0.00000  228.000000 -1143.510000\n",
              "25%    248.500000   0.793000   0.956000   1.40100  280.500000 -1041.557500\n",
              "50%    268.000000   0.793000   0.956000   2.80200  308.000000  -605.680000\n",
              "75%    289.000000   0.793000   0.956000   2.80200  352.500000  -509.455000\n",
              "max    321.000000   0.811000   0.980000   2.86800  503.000000  -275.730000"
            ]
          },
          "metadata": {
            "tags": []
          },
          "execution_count": 273
        }
      ]
    },
    {
      "cell_type": "markdown",
      "metadata": {
        "id": "qw9rkoI_lhrr",
        "colab_type": "text"
      },
      "source": [
        "Correlacion"
      ]
    },
    {
      "cell_type": "code",
      "metadata": {
        "id": "6Z8z1NvQkgyJ",
        "colab_type": "code",
        "outputId": "084786f2-3e38-4dc0-bcc7-bc97628a8eda",
        "colab": {
          "base_uri": "https://localhost:8080/",
          "height": 235
        }
      },
      "source": [
        "data.corr()"
      ],
      "execution_count": 0,
      "outputs": [
        {
          "output_type": "execute_result",
          "data": {
            "text/html": [
              "<div>\n",
              "<style scoped>\n",
              "    .dataframe tbody tr th:only-of-type {\n",
              "        vertical-align: middle;\n",
              "    }\n",
              "\n",
              "    .dataframe tbody tr th {\n",
              "        vertical-align: top;\n",
              "    }\n",
              "\n",
              "    .dataframe thead th {\n",
              "        text-align: right;\n",
              "    }\n",
              "</style>\n",
              "<table border=\"1\" class=\"dataframe\">\n",
              "  <thead>\n",
              "    <tr style=\"text-align: right;\">\n",
              "      <th></th>\n",
              "      <th>Consumo</th>\n",
              "      <th>Precio1</th>\n",
              "      <th>Precio2</th>\n",
              "      <th>Precio3</th>\n",
              "      <th>Total</th>\n",
              "      <th>Apoyo</th>\n",
              "    </tr>\n",
              "  </thead>\n",
              "  <tbody>\n",
              "    <tr>\n",
              "      <th>Consumo</th>\n",
              "      <td>1.000000</td>\n",
              "      <td>0.215315</td>\n",
              "      <td>0.215315</td>\n",
              "      <td>0.006404</td>\n",
              "      <td>0.922867</td>\n",
              "      <td>-0.202015</td>\n",
              "    </tr>\n",
              "    <tr>\n",
              "      <th>Precio1</th>\n",
              "      <td>0.215315</td>\n",
              "      <td>1.000000</td>\n",
              "      <td>1.000000</td>\n",
              "      <td>0.079907</td>\n",
              "      <td>0.191087</td>\n",
              "      <td>0.245103</td>\n",
              "    </tr>\n",
              "    <tr>\n",
              "      <th>Precio2</th>\n",
              "      <td>0.215315</td>\n",
              "      <td>1.000000</td>\n",
              "      <td>1.000000</td>\n",
              "      <td>0.079907</td>\n",
              "      <td>0.191087</td>\n",
              "      <td>0.245103</td>\n",
              "    </tr>\n",
              "    <tr>\n",
              "      <th>Precio3</th>\n",
              "      <td>0.006404</td>\n",
              "      <td>0.079907</td>\n",
              "      <td>0.079907</td>\n",
              "      <td>1.000000</td>\n",
              "      <td>0.181244</td>\n",
              "      <td>0.066217</td>\n",
              "    </tr>\n",
              "    <tr>\n",
              "      <th>Total</th>\n",
              "      <td>0.922867</td>\n",
              "      <td>0.191087</td>\n",
              "      <td>0.191087</td>\n",
              "      <td>0.181244</td>\n",
              "      <td>1.000000</td>\n",
              "      <td>-0.266240</td>\n",
              "    </tr>\n",
              "    <tr>\n",
              "      <th>Apoyo</th>\n",
              "      <td>-0.202015</td>\n",
              "      <td>0.245103</td>\n",
              "      <td>0.245103</td>\n",
              "      <td>0.066217</td>\n",
              "      <td>-0.266240</td>\n",
              "      <td>1.000000</td>\n",
              "    </tr>\n",
              "  </tbody>\n",
              "</table>\n",
              "</div>"
            ],
            "text/plain": [
              "          Consumo   Precio1   Precio2   Precio3     Total     Apoyo\n",
              "Consumo  1.000000  0.215315  0.215315  0.006404  0.922867 -0.202015\n",
              "Precio1  0.215315  1.000000  1.000000  0.079907  0.191087  0.245103\n",
              "Precio2  0.215315  1.000000  1.000000  0.079907  0.191087  0.245103\n",
              "Precio3  0.006404  0.079907  0.079907  1.000000  0.181244  0.066217\n",
              "Total    0.922867  0.191087  0.191087  0.181244  1.000000 -0.266240\n",
              "Apoyo   -0.202015  0.245103  0.245103  0.066217 -0.266240  1.000000"
            ]
          },
          "metadata": {
            "tags": []
          },
          "execution_count": 274
        }
      ]
    },
    {
      "cell_type": "markdown",
      "metadata": {
        "id": "-i8fgWcqjk-_",
        "colab_type": "text"
      },
      "source": [
        "Obtenemos un subconjunto de datos sin nulos"
      ]
    },
    {
      "cell_type": "code",
      "metadata": {
        "id": "kVjJFXQnjnqZ",
        "colab_type": "code",
        "outputId": "608ab0d5-f740-469c-c5eb-51da9d3eadd4",
        "colab": {
          "base_uri": "https://localhost:8080/",
          "height": 886
        }
      },
      "source": [
        "info = data.loc[:,[\"Fecha final\", \"Consumo\"]]\n",
        "\n",
        "info = info.dropna()\n",
        "\n",
        "info"
      ],
      "execution_count": 0,
      "outputs": [
        {
          "output_type": "execute_result",
          "data": {
            "text/html": [
              "<div>\n",
              "<style scoped>\n",
              "    .dataframe tbody tr th:only-of-type {\n",
              "        vertical-align: middle;\n",
              "    }\n",
              "\n",
              "    .dataframe tbody tr th {\n",
              "        vertical-align: top;\n",
              "    }\n",
              "\n",
              "    .dataframe thead th {\n",
              "        text-align: right;\n",
              "    }\n",
              "</style>\n",
              "<table border=\"1\" class=\"dataframe\">\n",
              "  <thead>\n",
              "    <tr style=\"text-align: right;\">\n",
              "      <th></th>\n",
              "      <th>Fecha final</th>\n",
              "      <th>Consumo</th>\n",
              "    </tr>\n",
              "  </thead>\n",
              "  <tbody>\n",
              "    <tr>\n",
              "      <th>0</th>\n",
              "      <td>05/03/15</td>\n",
              "      <td>200.0</td>\n",
              "    </tr>\n",
              "    <tr>\n",
              "      <th>1</th>\n",
              "      <td>06/05/15</td>\n",
              "      <td>247.0</td>\n",
              "    </tr>\n",
              "    <tr>\n",
              "      <th>2</th>\n",
              "      <td>06/07/15</td>\n",
              "      <td>219.0</td>\n",
              "    </tr>\n",
              "    <tr>\n",
              "      <th>3</th>\n",
              "      <td>04/09/15</td>\n",
              "      <td>224.0</td>\n",
              "    </tr>\n",
              "    <tr>\n",
              "      <th>4</th>\n",
              "      <td>05/11/15</td>\n",
              "      <td>229.0</td>\n",
              "    </tr>\n",
              "    <tr>\n",
              "      <th>5</th>\n",
              "      <td>06/01/16</td>\n",
              "      <td>257.0</td>\n",
              "    </tr>\n",
              "    <tr>\n",
              "      <th>6</th>\n",
              "      <td>04/03/16</td>\n",
              "      <td>213.0</td>\n",
              "    </tr>\n",
              "    <tr>\n",
              "      <th>7</th>\n",
              "      <td>06/05/16</td>\n",
              "      <td>254.0</td>\n",
              "    </tr>\n",
              "    <tr>\n",
              "      <th>8</th>\n",
              "      <td>06/07/16</td>\n",
              "      <td>267.0</td>\n",
              "    </tr>\n",
              "    <tr>\n",
              "      <th>9</th>\n",
              "      <td>06/09/16</td>\n",
              "      <td>236.0</td>\n",
              "    </tr>\n",
              "    <tr>\n",
              "      <th>10</th>\n",
              "      <td>04/11/16</td>\n",
              "      <td>271.0</td>\n",
              "    </tr>\n",
              "    <tr>\n",
              "      <th>11</th>\n",
              "      <td>04/01/17</td>\n",
              "      <td>321.0</td>\n",
              "    </tr>\n",
              "    <tr>\n",
              "      <th>12</th>\n",
              "      <td>06/03/17</td>\n",
              "      <td>305.0</td>\n",
              "    </tr>\n",
              "    <tr>\n",
              "      <th>13</th>\n",
              "      <td>05/05/17</td>\n",
              "      <td>278.0</td>\n",
              "    </tr>\n",
              "    <tr>\n",
              "      <th>14</th>\n",
              "      <td>05/07/17</td>\n",
              "      <td>307.0</td>\n",
              "    </tr>\n",
              "    <tr>\n",
              "      <th>15</th>\n",
              "      <td>04/09/17</td>\n",
              "      <td>279.0</td>\n",
              "    </tr>\n",
              "    <tr>\n",
              "      <th>16</th>\n",
              "      <td>02/11/17</td>\n",
              "      <td>262.0</td>\n",
              "    </tr>\n",
              "    <tr>\n",
              "      <th>17</th>\n",
              "      <td>04/01/18</td>\n",
              "      <td>282.0</td>\n",
              "    </tr>\n",
              "    <tr>\n",
              "      <th>18</th>\n",
              "      <td>06/03/18</td>\n",
              "      <td>274.0</td>\n",
              "    </tr>\n",
              "    <tr>\n",
              "      <th>19</th>\n",
              "      <td>04/05/18</td>\n",
              "      <td>298.0</td>\n",
              "    </tr>\n",
              "    <tr>\n",
              "      <th>20</th>\n",
              "      <td>04/07/18</td>\n",
              "      <td>321.0</td>\n",
              "    </tr>\n",
              "    <tr>\n",
              "      <th>21</th>\n",
              "      <td>04/09/18</td>\n",
              "      <td>285.0</td>\n",
              "    </tr>\n",
              "    <tr>\n",
              "      <th>22</th>\n",
              "      <td>02/11/18</td>\n",
              "      <td>268.0</td>\n",
              "    </tr>\n",
              "    <tr>\n",
              "      <th>23</th>\n",
              "      <td>04/01/19</td>\n",
              "      <td>251.0</td>\n",
              "    </tr>\n",
              "    <tr>\n",
              "      <th>24</th>\n",
              "      <td>06/03/19</td>\n",
              "      <td>250.0</td>\n",
              "    </tr>\n",
              "    <tr>\n",
              "      <th>25</th>\n",
              "      <td>07/05/19</td>\n",
              "      <td>293.0</td>\n",
              "    </tr>\n",
              "    <tr>\n",
              "      <th>26</th>\n",
              "      <td>09/07/19</td>\n",
              "      <td>296.0</td>\n",
              "    </tr>\n",
              "  </tbody>\n",
              "</table>\n",
              "</div>"
            ],
            "text/plain": [
              "   Fecha final  Consumo\n",
              "0     05/03/15    200.0\n",
              "1     06/05/15    247.0\n",
              "2     06/07/15    219.0\n",
              "3     04/09/15    224.0\n",
              "4     05/11/15    229.0\n",
              "5     06/01/16    257.0\n",
              "6     04/03/16    213.0\n",
              "7     06/05/16    254.0\n",
              "8     06/07/16    267.0\n",
              "9     06/09/16    236.0\n",
              "10    04/11/16    271.0\n",
              "11    04/01/17    321.0\n",
              "12    06/03/17    305.0\n",
              "13    05/05/17    278.0\n",
              "14    05/07/17    307.0\n",
              "15    04/09/17    279.0\n",
              "16    02/11/17    262.0\n",
              "17    04/01/18    282.0\n",
              "18    06/03/18    274.0\n",
              "19    04/05/18    298.0\n",
              "20    04/07/18    321.0\n",
              "21    04/09/18    285.0\n",
              "22    02/11/18    268.0\n",
              "23    04/01/19    251.0\n",
              "24    06/03/19    250.0\n",
              "25    07/05/19    293.0\n",
              "26    09/07/19    296.0"
            ]
          },
          "metadata": {
            "tags": []
          },
          "execution_count": 275
        }
      ]
    },
    {
      "cell_type": "markdown",
      "metadata": {
        "id": "JUxb_1Ptpp8C",
        "colab_type": "text"
      },
      "source": [
        "Colocamos indice de la serie y graficamos"
      ]
    },
    {
      "cell_type": "code",
      "metadata": {
        "id": "9MSoHIh1ply7",
        "colab_type": "code",
        "outputId": "15e84de1-1876-4c35-b65d-f8831872d4af",
        "colab": {
          "base_uri": "https://localhost:8080/",
          "height": 537
        }
      },
      "source": [
        "info = info.set_index('Fecha final')\n",
        "\n",
        "info.plot(figsize=(20, 8))"
      ],
      "execution_count": 0,
      "outputs": [
        {
          "output_type": "execute_result",
          "data": {
            "text/plain": [
              "<matplotlib.axes._subplots.AxesSubplot at 0x7fe957deb668>"
            ]
          },
          "metadata": {
            "tags": []
          },
          "execution_count": 276
        },
        {
          "output_type": "display_data",
          "data": {
            "image/png": "[encoded data removed]",
            "text/plain": [
              "<Figure size 1440x576 with 1 Axes>"
            ]
          },
          "metadata": {
            "tags": []
          }
        }
      ]
    },
    {
      "cell_type": "markdown",
      "metadata": {
        "id": "Kl8qHNgvshZB",
        "colab_type": "text"
      },
      "source": [
        "Se realiza la regresión lineal"
      ]
    },
    {
      "cell_type": "code",
      "metadata": {
        "id": "wPwkveFns4Mn",
        "colab_type": "code",
        "outputId": "95ca401b-e529-4755-8792-853125b6beab",
        "colab": {
          "base_uri": "https://localhost:8080/",
          "height": 281
        }
      },
      "source": [
        "#visualizamos histogramas\n",
        "h = data.hist()\n",
        "plt.show()"
      ],
      "execution_count": 0,
      "outputs": [
        {
          "output_type": "display_data",
          "data": {
            "image/png": "[encoded data removed]",
            "text/plain": [
              "<Figure size 432x288 with 6 Axes>"
            ]
          },
          "metadata": {
            "tags": []
          }
        }
      ]
    },
    {
      "cell_type": "markdown",
      "metadata": {
        "id": "gsQPUJYgyLty",
        "colab_type": "text"
      },
      "source": [
        "Cargamos otro ejemplo de datos y predecimos"
      ]
    },
    {
      "cell_type": "code",
      "metadata": {
        "id": "m9ZVs_R5yfqE",
        "colab_type": "code",
        "outputId": "84b3922e-1407-4cbf-f2bb-6f853bb83b79",
        "colab": {
          "base_uri": "https://localhost:8080/",
          "height": 638
        }
      },
      "source": [
        "train = pd.read_csv(\"http://dsc.itmorelia.edu.mx/~jcolivares/data/consumoCasa1.csv\")\n",
        "\n",
        "train = train.loc[:, [\"Fecha final\", \"Consumo\"]]\n",
        "\n",
        "train = train.set_index(\"Fecha final\")\n",
        "\n",
        "train"
      ],
      "execution_count": 0,
      "outputs": [
        {
          "output_type": "execute_result",
          "data": {
            "text/html": [
              "<div>\n",
              "<style scoped>\n",
              "    .dataframe tbody tr th:only-of-type {\n",
              "        vertical-align: middle;\n",
              "    }\n",
              "\n",
              "    .dataframe tbody tr th {\n",
              "        vertical-align: top;\n",
              "    }\n",
              "\n",
              "    .dataframe thead th {\n",
              "        text-align: right;\n",
              "    }\n",
              "</style>\n",
              "<table border=\"1\" class=\"dataframe\">\n",
              "  <thead>\n",
              "    <tr style=\"text-align: right;\">\n",
              "      <th></th>\n",
              "      <th>Consumo</th>\n",
              "    </tr>\n",
              "    <tr>\n",
              "      <th>Fecha final</th>\n",
              "      <th></th>\n",
              "    </tr>\n",
              "  </thead>\n",
              "  <tbody>\n",
              "    <tr>\n",
              "      <th>15/07/16</th>\n",
              "      <td>0</td>\n",
              "    </tr>\n",
              "    <tr>\n",
              "      <th>15/09/16</th>\n",
              "      <td>1</td>\n",
              "    </tr>\n",
              "    <tr>\n",
              "      <th>15/11/16</th>\n",
              "      <td>0</td>\n",
              "    </tr>\n",
              "    <tr>\n",
              "      <th>13/01/17</th>\n",
              "      <td>0</td>\n",
              "    </tr>\n",
              "    <tr>\n",
              "      <th>15/03/17</th>\n",
              "      <td>0</td>\n",
              "    </tr>\n",
              "    <tr>\n",
              "      <th>16/05/17</th>\n",
              "      <td>0</td>\n",
              "    </tr>\n",
              "    <tr>\n",
              "      <th>14/07/17</th>\n",
              "      <td>0</td>\n",
              "    </tr>\n",
              "    <tr>\n",
              "      <th>13/09/17</th>\n",
              "      <td>0</td>\n",
              "    </tr>\n",
              "    <tr>\n",
              "      <th>13/11/17</th>\n",
              "      <td>0</td>\n",
              "    </tr>\n",
              "    <tr>\n",
              "      <th>15/01/18</th>\n",
              "      <td>0</td>\n",
              "    </tr>\n",
              "    <tr>\n",
              "      <th>15/03/18</th>\n",
              "      <td>0</td>\n",
              "    </tr>\n",
              "    <tr>\n",
              "      <th>15/05/18</th>\n",
              "      <td>3</td>\n",
              "    </tr>\n",
              "    <tr>\n",
              "      <th>13/07/18</th>\n",
              "      <td>0</td>\n",
              "    </tr>\n",
              "    <tr>\n",
              "      <th>13/09/18</th>\n",
              "      <td>0</td>\n",
              "    </tr>\n",
              "    <tr>\n",
              "      <th>13/11/18</th>\n",
              "      <td>0</td>\n",
              "    </tr>\n",
              "    <tr>\n",
              "      <th>15/01/19</th>\n",
              "      <td>0</td>\n",
              "    </tr>\n",
              "    <tr>\n",
              "      <th>15/03/19</th>\n",
              "      <td>0</td>\n",
              "    </tr>\n",
              "    <tr>\n",
              "      <th>16/05/19</th>\n",
              "      <td>0</td>\n",
              "    </tr>\n",
              "  </tbody>\n",
              "</table>\n",
              "</div>"
            ],
            "text/plain": [
              "             Consumo\n",
              "Fecha final         \n",
              "15/07/16           0\n",
              "15/09/16           1\n",
              "15/11/16           0\n",
              "13/01/17           0\n",
              "15/03/17           0\n",
              "16/05/17           0\n",
              "14/07/17           0\n",
              "13/09/17           0\n",
              "13/11/17           0\n",
              "15/01/18           0\n",
              "15/03/18           0\n",
              "15/05/18           3\n",
              "13/07/18           0\n",
              "13/09/18           0\n",
              "13/11/18           0\n",
              "15/01/19           0\n",
              "15/03/19           0\n",
              "16/05/19           0"
            ]
          },
          "metadata": {
            "tags": []
          },
          "execution_count": 278
        }
      ]
    },
    {
      "cell_type": "code",
      "metadata": {
        "id": "TMINVzAJtcyU",
        "colab_type": "code",
        "outputId": "6fb7185c-826a-4a00-de7a-8a3ab7ae3bb3",
        "colab": {
          "base_uri": "https://localhost:8080/",
          "height": 269
        }
      },
      "source": [
        "regr = lm.LinearRegression()\n",
        "\n",
        "#regr.fit(train, train)\n",
        "regr.fit(info, info)\n",
        "\n",
        "#prediccion = regr.predict(info)\n",
        "prediccion = regr.predict(train)\n",
        "\n",
        "prediccion\n",
        "\n",
        "plt.subplot(1,2,1)\n",
        "plt.plot(prediccion) \n",
        "\n",
        "plt.subplot(1,2,2)\n",
        "plt.plot(info) \n",
        "#plt.plot(train)\n",
        "\n",
        "plt.show()\n"
      ],
      "execution_count": 0,
      "outputs": [
        {
          "output_type": "display_data",
          "data": {
            "image/png": "[encoded data removed]",
            "text/plain": [
              "<Figure size 432x288 with 2 Axes>"
            ]
          },
          "metadata": {
            "tags": []
          }
        }
      ]
    },
    {
      "cell_type": "markdown",
      "metadata": {
        "id": "h_HyB-rEfqKM",
        "colab_type": "text"
      },
      "source": [
        "## Modelo de AR"
      ]
    },
    {
      "cell_type": "code",
      "metadata": {
        "id": "hjxFaC3WftAk",
        "colab_type": "code",
        "outputId": "013717f6-677b-4935-bb7e-e56ab73d7a75",
        "colab": {
          "base_uri": "https://localhost:8080/",
          "height": 374
        }
      },
      "source": [
        "# Importar bibliotecas\n",
        "from statsmodels.tsa.ar_model import AR\n",
        "from random import random\n",
        "#import pandas as pd\n",
        "\n",
        "\n",
        "# Modelo de ajuste\n",
        "model = AR(info[\"Consumo\"])\n",
        "model_fit = model.fit(10)\n",
        "\n",
        "# Hacer prediccion\n",
        "yhat = model_fit.predict(len(info[\"Consumo\"]), len(info[\"Consumo\"])+len(info[\"Consumo\"]-1))\n",
        "\n",
        "plt.plot(info) \n",
        "plt.plot(yhat)\n",
        "\n",
        "#plt.plot(info, yhat)"
      ],
      "execution_count": 315,
      "outputs": [
        {
          "output_type": "stream",
          "text": [
            "/usr/local/lib/python3.6/dist-packages/statsmodels/tsa/base/tsa_model.py:219: ValueWarning: A date index has been provided, but it has no associated frequency information and so will be ignored when e.g. forecasting.\n",
            "  ' ignored when e.g. forecasting.', ValueWarning)\n",
            "/usr/local/lib/python3.6/dist-packages/statsmodels/tsa/base/tsa_model.py:576: ValueWarning: No supported index is available. Prediction results will be given with an integer index beginning at `start`.\n",
            "  ValueWarning)\n"
          ],
          "name": "stderr"
        },
        {
          "output_type": "execute_result",
          "data": {
            "text/plain": [
              "[<matplotlib.lines.Line2D at 0x7fe95604a9e8>]"
            ]
          },
          "metadata": {
            "tags": []
          },
          "execution_count": 315
        },
        {
          "output_type": "display_data",
          "data": {
            "image/png": "[encoded data removed]",
            "text/plain": [
              "<Figure size 432x288 with 1 Axes>"
            ]
          },
          "metadata": {
            "tags": []
          }
        }
      ]
    }
  ]
}